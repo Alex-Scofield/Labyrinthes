{
 "cells": [
  {
   "cell_type": "code",
   "execution_count": 13,
   "id": "5d96dc36-31bb-42f2-ab76-ca864113f4d0",
   "metadata": {
    "tags": []
   },
   "outputs": [],
   "source": [
    "from utilites import *\n",
    "from affichage import *\n",
    "import algorithmes\n",
    "\n",
    "N = 10\n",
    "M = 5\n",
    "\n",
    "pl = PseudoLabyrinthe((N,M))\n"
   ]
  },
  {
   "cell_type": "code",
   "execution_count": 15,
   "id": "8820f307-2c8d-4c67-a673-aaa54e577f47",
   "metadata": {
    "tags": []
   },
   "outputs": [],
   "source": [
    "def afficheLaby(pl : PseudoLabyrinthe):\n",
    "    plot=line2d([(0,0),(0,0)],xmin=0,xmax=pl.get_taille[0],ymin=0,ymax=pl.get_taille[1])\n",
    "    for n in pl.get_noeuds():\n",
    "        for line in dessineNoeud(n):\n",
    "            plot+=line2d(line)\n",
    "    return plot"
   ]
  },
  {
   "cell_type": "code",
   "execution_count": 3,
   "id": "1d1a83d2-78ea-437d-b7a5-450f54320710",
   "metadata": {
    "tags": []
   },
   "outputs": [
    {
     "data": {
      "text/plain": [
       "[[(3, 5), (4, 5)], [(4, 4), (4, 5)], [(3, 4), (3, 5)], [(3, 4), (4, 4)]]"
      ]
     },
     "execution_count": 3,
     "metadata": {},
     "output_type": "execute_result"
    }
   ],
   "source": [
    "afficheLaby(pl)"
   ]
  },
  {
   "cell_type": "code",
   "execution_count": null,
   "id": "e12ad971-bafa-45f9-892e-4f3075f3c822",
   "metadata": {},
   "outputs": [],
   "source": []
  }
 ],
 "metadata": {
  "kernelspec": {
   "display_name": "SageMath 9.7",
   "language": "sage",
   "name": "sagemath"
  },
  "language_info": {
   "codemirror_mode": {
    "name": "ipython",
    "version": 3
   },
   "file_extension": ".py",
   "mimetype": "text/x-python",
   "name": "python",
   "nbconvert_exporter": "python",
   "pygments_lexer": "ipython3",
   "version": "3.10.9"
  }
 },
 "nbformat": 4,
 "nbformat_minor": 5
}
