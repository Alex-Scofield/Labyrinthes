{
 "cells": [
  {
   "cell_type": "code",
   "execution_count": 1,
   "id": "5d96dc36-31bb-42f2-ab76-ca864113f4d0",
   "metadata": {
    "tags": []
   },
   "outputs": [],
   "source": [
    "from utilites import *\n",
    "import algorithmes\n",
    "directions = [(0, 1), (1, 0), (-1, 0), (0, -1)]\n",
    "cote = [\"haut\", \"droite\", \"gauche\", \"bas\"]\n",
    "\n",
    "\n",
    "directions = [(0, 1), (1, 0), (-1, 0), (0, -1)]\n",
    "cote = [\"haut\", \"droite\", \"gauche\", \"bas\"]\n",
    "\n",
    "\n",
    "def dessineNoeud(n: Noeud, murs: list) -> None:\n",
    "    \"\"\"\n",
    "        Décrit les points à tracer pour déssiner une cellule d'un pseudolabyrinthe \n",
    "\n",
    "        @param n:Noeud  le noeud à dessiner\n",
    "        @param murs:list  une list de vecteurs de directions ou se trouve les murs\n",
    "        @return une list de tuple des points à relier pour tracer les bords\n",
    "    \"\"\"\n",
    "    lines = []\n",
    "    for m in murs:\n",
    "        if m == (-1, 0):\n",
    "            lines.append([n.get_id(), (n.get_id()[0], n.get_id()[1]+1)])\n",
    "        elif m == (1, 0):\n",
    "            lines.append([(n.get_id()[0]+1, n.get_id()[1]),\n",
    "                         (n.get_id()[0]+1, n.get_id()[1]+1)])\n",
    "        elif m == (0, 1):\n",
    "            lines.append([(n.get_id()[0], n.get_id()[1]+1),\n",
    "                         (n.get_id()[0]+1, n.get_id()[1]+1)])\n",
    "        elif m == (0, -1):\n",
    "            lines.append([n.get_id(), (n.get_id()[0]+1, n.get_id()[1])])\n",
    "    return lines\n",
    "\n",
    "\n",
    "def afficheLaby(pl: PseudoLabyrinthe) -> list:\n",
    "     \"\"\"\n",
    "        Affiche un pseudo-labyrinthe\n",
    "        Important: A utiliser avec une console Sage-Math\n",
    "        @param pl:PseudoLabyrinthe   le labyrinthe à afficher\n",
    "    \"\"\"\n",
    "    plot = line2d([(0, 0), (0, 0)], xmin=0, xmax=pl.get_taille()[0], ymin=0, ymax=pl.get_taille()[1])\n",
    "    for n in pl.get_noeuds():\n",
    "        connexions = n.get_connexions()\n",
    "        nid = n.get_id()\n",
    "        vectors = [(node.get_id()[0]-nid[0], node.get_id()[1]-nid[1]) for node in connexions]\n",
    "        murs = []\n",
    "        for v in directions:\n",
    "            if v not in vectors:\n",
    "                murs.append(directions[directions.index(v)])\n",
    "        for m in murs:\n",
    "            if (0<=nid[0]+m[0]<pl.get_taille()[0] and 0<=nid[1]+m[1]<pl.get_taille()[1]):\n",
    "                if n in pl.get_noeud_par_id((nid[0]+m[0],nid[1]+m[1])).get_connexions():\n",
    "                    murs.remove(m)\n",
    "        lines = dessineNoeud(n, murs)\n",
    "        for line in lines:\n",
    "            plot += line2d(line)\n",
    "    return plot\n"
   ]
  },
  {
   "cell_type": "code",
   "execution_count": 2,
   "id": "8820f307-2c8d-4c67-a673-aaa54e577f47",
   "metadata": {
    "tags": []
   },
   "outputs": [],
   "source": [
    "N = 5\n",
    "M = 3\n",
    "\n",
    "pl = PseudoLabyrinthe((N,M))\n",
    "pl.get_noeud_par_id((0,0)).ajoute_connexions((pl.get_noeud_par_id((0,1))))\n",
    "pl.get_noeud_par_id((0,0)).ajoute_connexions((pl.get_noeud_par_id((1,0))))\n",
    "\n",
    "pl.get_noeud_par_id((4,2)).ajoute_connexions((pl.get_noeud_par_id((3,2))))"
   ]
  },
  {
   "cell_type": "code",
   "execution_count": 3,
   "id": "1d1a83d2-78ea-437d-b7a5-450f54320710",
   "metadata": {
    "tags": []
   },
   "outputs": [
    {
     "data": {
      "image/png": "[encoded data removed]",
      "text/plain": [
       "Graphics object consisting of 55 graphics primitives"
      ]
     },
     "execution_count": 3,
     "metadata": {},
     "output_type": "execute_result"
    }
   ],
   "source": [
    "afficheLaby(pl)"
   ]
  },
  {
   "cell_type": "code",
   "execution_count": 4,
   "id": "e12ad971-bafa-45f9-892e-4f3075f3c822",
   "metadata": {
    "tags": []
   },
   "outputs": [
    {
     "data": {
      "image/png": "[encoded data removed]",
      "text/plain": [
       "Graphics object consisting of 17 graphics primitives"
      ]
     },
     "execution_count": 4,
     "metadata": {},
     "output_type": "execute_result"
    }
   ],
   "source": [
    "pl2=algorithmes.construit_pseudo_labyrinthe_vide((4,3))\n",
    "pl2.get_noeud_par_id((1,1)).supprime_connexions((pl2.get_noeud_par_id((1,0))))\n",
    "pl2.get_noeud_par_id((1,0)).supprime_connexions((pl2.get_noeud_par_id((1,1))))\n",
    "afficheLaby(pl2)"
   ]
  },
  {
   "cell_type": "code",
   "execution_count": null,
   "id": "9f9c4ac7-44ce-4507-81ec-5945b963eb9a",
   "metadata": {},
   "outputs": [],
   "source": []
  }
 ],
 "metadata": {
  "kernelspec": {
   "display_name": "SageMath 9.7",
   "language": "sage",
   "name": "sagemath"
  },
  "language_info": {
   "codemirror_mode": {
    "name": "ipython",
    "version": 3
   },
   "file_extension": ".py",
   "mimetype": "text/x-python",
   "name": "python",
   "nbconvert_exporter": "python",
   "pygments_lexer": "ipython3",
   "version": "3.10.9"
  },
  "vscode": {
   "interpreter": {
    "hash": "ff4f85d6e04298634172ac5d8264e7e9b556b95639fe52ebb9425c4d4cba0c9c"
   }
  }
 },
 "nbformat": 4,
 "nbformat_minor": 5
}
