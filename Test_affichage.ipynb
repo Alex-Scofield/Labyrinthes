{
 "cells": [
  {
   "cell_type": "code",
   "execution_count": 2,
   "id": "5d96dc36-31bb-42f2-ab76-ca864113f4d0",
   "metadata": {
    "tags": []
   },
   "outputs": [
    {
     "name": "stdout",
     "output_type": "stream",
     "text": [
      "[(-1, 0)]\n"
     ]
    }
   ],
   "source": [
    "from utilites import *\n",
    "from affichage import *\n",
    "import algorithmes\n",
    "\n",
    "N = 10\n",
    "M = 5\n",
    "\n",
    "pl = PseudoLabyrinthe((N,M))\n"
   ]
  },
  {
   "cell_type": "code",
   "execution_count": 3,
   "id": "8820f307-2c8d-4c67-a673-aaa54e577f47",
   "metadata": {
    "tags": []
   },
   "outputs": [],
   "source": [
    "def afficheLaby(pl : PseudoLabyrinthe):\n",
    "    plot=line2d([(0,0),(0,0)],xmin=0,xmax=pl.get_taille()[0],ymin=0,ymax=pl.get_taille()[1])\n",
    "    for n in pl.get_noeuds():\n",
    "        for line in dessineNoeud(n):\n",
    "            plot+=line2d(line)\n",
    "    return plot"
   ]
  },
  {
   "cell_type": "code",
   "execution_count": 4,
   "id": "1d1a83d2-78ea-437d-b7a5-450f54320710",
   "metadata": {
    "tags": []
   },
   "outputs": [
    {
     "ename": "NameError",
     "evalue": "name 'line2d' is not defined",
     "output_type": "error",
     "traceback": [
      "\u001b[1;31m---------------------------------------------------------------------------\u001b[0m",
      "\u001b[1;31mNameError\u001b[0m                                 Traceback (most recent call last)",
      "\u001b[1;32mc:\\Users\\HP\\Desktop\\Projet L1\\Labyrinthes\\Test_affichage.ipynb Cell 3\u001b[0m in \u001b[0;36m<cell line: 1>\u001b[1;34m()\u001b[0m\n\u001b[1;32m----> <a href='vscode-notebook-cell:/c%3A/Users/HP/Desktop/Projet%20L1/Labyrinthes/Test_affichage.ipynb#W2sZmlsZQ%3D%3D?line=0'>1</a>\u001b[0m afficheLaby(pl)\n",
      "\u001b[1;32mc:\\Users\\HP\\Desktop\\Projet L1\\Labyrinthes\\Test_affichage.ipynb Cell 3\u001b[0m in \u001b[0;36mafficheLaby\u001b[1;34m(pl)\u001b[0m\n\u001b[0;32m      <a href='vscode-notebook-cell:/c%3A/Users/HP/Desktop/Projet%20L1/Labyrinthes/Test_affichage.ipynb#W2sZmlsZQ%3D%3D?line=0'>1</a>\u001b[0m \u001b[39mdef\u001b[39;00m \u001b[39mafficheLaby\u001b[39m(pl : PseudoLabyrinthe):\n\u001b[1;32m----> <a href='vscode-notebook-cell:/c%3A/Users/HP/Desktop/Projet%20L1/Labyrinthes/Test_affichage.ipynb#W2sZmlsZQ%3D%3D?line=1'>2</a>\u001b[0m     plot\u001b[39m=\u001b[39mline2d([(\u001b[39m0\u001b[39m,\u001b[39m0\u001b[39m),(\u001b[39m0\u001b[39m,\u001b[39m0\u001b[39m)],xmin\u001b[39m=\u001b[39m\u001b[39m0\u001b[39m,xmax\u001b[39m=\u001b[39mpl\u001b[39m.\u001b[39mget_taille[\u001b[39m0\u001b[39m],ymin\u001b[39m=\u001b[39m\u001b[39m0\u001b[39m,ymax\u001b[39m=\u001b[39mpl\u001b[39m.\u001b[39mget_taille[\u001b[39m1\u001b[39m])\n\u001b[0;32m      <a href='vscode-notebook-cell:/c%3A/Users/HP/Desktop/Projet%20L1/Labyrinthes/Test_affichage.ipynb#W2sZmlsZQ%3D%3D?line=2'>3</a>\u001b[0m     \u001b[39mfor\u001b[39;00m n \u001b[39min\u001b[39;00m pl\u001b[39m.\u001b[39mget_noeuds():\n\u001b[0;32m      <a href='vscode-notebook-cell:/c%3A/Users/HP/Desktop/Projet%20L1/Labyrinthes/Test_affichage.ipynb#W2sZmlsZQ%3D%3D?line=3'>4</a>\u001b[0m         \u001b[39mfor\u001b[39;00m line \u001b[39min\u001b[39;00m dessineNoeud(n):\n",
      "\u001b[1;31mNameError\u001b[0m: name 'line2d' is not defined"
     ]
    }
   ],
   "source": [
    "afficheLaby(pl)"
   ]
  },
  {
   "cell_type": "code",
   "execution_count": null,
   "id": "e12ad971-bafa-45f9-892e-4f3075f3c822",
   "metadata": {},
   "outputs": [],
   "source": []
  }
 ],
 "metadata": {
  "kernelspec": {
   "display_name": "base",
   "language": "python",
   "name": "python3"
  },
  "language_info": {
   "codemirror_mode": {
    "name": "ipython",
    "version": 3
   },
   "file_extension": ".py",
   "mimetype": "text/x-python",
   "name": "python",
   "nbconvert_exporter": "python",
   "pygments_lexer": "ipython3",
   "version": "3.9.12"
  },
  "vscode": {
   "interpreter": {
    "hash": "ff4f85d6e04298634172ac5d8264e7e9b556b95639fe52ebb9425c4d4cba0c9c"
   }
  }
 },
 "nbformat": 4,
 "nbformat_minor": 5
}
